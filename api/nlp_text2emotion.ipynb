{
 "metadata": {
  "language_info": {
   "codemirror_mode": {
    "name": "ipython",
    "version": 3
   },
   "file_extension": ".py",
   "mimetype": "text/x-python",
   "name": "python",
   "nbconvert_exporter": "python",
   "pygments_lexer": "ipython3",
   "version": "3.9.7-final"
  },
  "orig_nbformat": 2,
  "kernelspec": {
   "name": "python3",
   "display_name": "Python 3.9.7 64-bit ('vizFinal': conda)",
   "metadata": {
    "interpreter": {
     "hash": "41a31bd36767b9572114daf7453116d4e59d419c79468f9c550baf01002339eb"
    }
   }
  }
 },
 "nbformat": 4,
 "nbformat_minor": 2,
 "cells": [
  {
   "cell_type": "code",
   "execution_count": 3,
   "metadata": {},
   "outputs": [],
   "source": [
    "#Imports\n",
    "import pandas as pd\n",
    "import numpy as np\n",
    "import text2emotion as te"
   ]
  },
  {
   "cell_type": "code",
   "execution_count": 18,
   "metadata": {
    "tags": []
   },
   "outputs": [
    {
     "output_type": "execute_result",
     "data": {
      "text/plain": [
       "      Happy  Angry  Surprise   Sad  Fear\n",
       "0      0.09   0.09      0.36  0.00  0.45\n",
       "1      0.00   0.00      0.44  0.33  0.22\n",
       "2      0.00   0.00      0.17  0.00  0.83\n",
       "3      0.00   0.00      0.09  0.55  0.36\n",
       "4      0.12   0.00      0.12  0.12  0.62\n",
       "...     ...    ...       ...   ...   ...\n",
       "1448   0.06   0.06      0.11  0.11  0.67\n",
       "1449   0.07   0.00      0.36  0.14  0.43\n",
       "1450   0.12   0.00      0.19  0.12  0.56\n",
       "1451   0.07   0.00      0.36  0.14  0.43\n",
       "1452   0.00   0.00      0.20  0.20  0.60\n",
       "\n",
       "[1453 rows x 5 columns]"
      ],
      "text/html": "<div>\n<style scoped>\n    .dataframe tbody tr th:only-of-type {\n        vertical-align: middle;\n    }\n\n    .dataframe tbody tr th {\n        vertical-align: top;\n    }\n\n    .dataframe thead th {\n        text-align: right;\n    }\n</style>\n<table border=\"1\" class=\"dataframe\">\n  <thead>\n    <tr style=\"text-align: right;\">\n      <th></th>\n      <th>Happy</th>\n      <th>Angry</th>\n      <th>Surprise</th>\n      <th>Sad</th>\n      <th>Fear</th>\n    </tr>\n  </thead>\n  <tbody>\n    <tr>\n      <th>0</th>\n      <td>0.09</td>\n      <td>0.09</td>\n      <td>0.36</td>\n      <td>0.00</td>\n      <td>0.45</td>\n    </tr>\n    <tr>\n      <th>1</th>\n      <td>0.00</td>\n      <td>0.00</td>\n      <td>0.44</td>\n      <td>0.33</td>\n      <td>0.22</td>\n    </tr>\n    <tr>\n      <th>2</th>\n      <td>0.00</td>\n      <td>0.00</td>\n      <td>0.17</td>\n      <td>0.00</td>\n      <td>0.83</td>\n    </tr>\n    <tr>\n      <th>3</th>\n      <td>0.00</td>\n      <td>0.00</td>\n      <td>0.09</td>\n      <td>0.55</td>\n      <td>0.36</td>\n    </tr>\n    <tr>\n      <th>4</th>\n      <td>0.12</td>\n      <td>0.00</td>\n      <td>0.12</td>\n      <td>0.12</td>\n      <td>0.62</td>\n    </tr>\n    <tr>\n      <th>...</th>\n      <td>...</td>\n      <td>...</td>\n      <td>...</td>\n      <td>...</td>\n      <td>...</td>\n    </tr>\n    <tr>\n      <th>1448</th>\n      <td>0.06</td>\n      <td>0.06</td>\n      <td>0.11</td>\n      <td>0.11</td>\n      <td>0.67</td>\n    </tr>\n    <tr>\n      <th>1449</th>\n      <td>0.07</td>\n      <td>0.00</td>\n      <td>0.36</td>\n      <td>0.14</td>\n      <td>0.43</td>\n    </tr>\n    <tr>\n      <th>1450</th>\n      <td>0.12</td>\n      <td>0.00</td>\n      <td>0.19</td>\n      <td>0.12</td>\n      <td>0.56</td>\n    </tr>\n    <tr>\n      <th>1451</th>\n      <td>0.07</td>\n      <td>0.00</td>\n      <td>0.36</td>\n      <td>0.14</td>\n      <td>0.43</td>\n    </tr>\n    <tr>\n      <th>1452</th>\n      <td>0.00</td>\n      <td>0.00</td>\n      <td>0.20</td>\n      <td>0.20</td>\n      <td>0.60</td>\n    </tr>\n  </tbody>\n</table>\n<p>1453 rows × 5 columns</p>\n</div>"
     },
     "metadata": {},
     "execution_count": 18
    }
   ],
   "source": [
    "#Read in our review data as a csv\n",
    "data = pd.read_csv('./data/reviews.csv')\n",
    "\n",
    "\n",
    "review_series = data['review']\n",
    "\n",
    "# #Grabbing for each entry\n",
    "# for review in data.review:\n",
    "#     print(te.get_emotion(review))\n",
    "sentiments_df = pd.DataFrame([te.get_emotion(x) for x in data.review])\n",
    "res = pd.concat([data, sentiments_df], axis=1, join='inner')\n",
    "res.to_csv('./data/reviews_text2emotion.csv')\n",
    "# print(sentiments)\n",
    "sentiments_df\n",
    "\n",
    "\n",
    "\n"
   ]
  },
  {
   "cell_type": "code",
   "execution_count": null,
   "metadata": {},
   "outputs": [],
   "source": []
  }
 ]
}