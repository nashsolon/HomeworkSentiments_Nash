{
 "cells": [
  {
   "cell_type": "markdown",
   "metadata": {},
   "source": [
    "# Vader Sentiment Analysis"
   ]
  },
  {
   "cell_type": "markdown",
   "metadata": {},
   "source": [
    "### First, we'll import our libraries"
   ]
  },
  {
   "cell_type": "code",
   "execution_count": 2,
   "metadata": {},
   "outputs": [],
   "source": [
    "import pandas as pd\n",
    "import numpy as np\n",
    "import nltk\n",
    "from nltk.sentiment.vader import SentimentIntensityAnalyzer"
   ]
  },
  {
   "cell_type": "code",
   "execution_count": 3,
   "metadata": {},
   "outputs": [
    {
     "name": "stderr",
     "output_type": "stream",
     "text": [
      "[nltk_data] Downloading package vader_lexicon to\n",
      "[nltk_data]     /Users/nashsolon/nltk_data...\n"
     ]
    },
    {
     "data": {
      "text/plain": [
       "True"
      ]
     },
     "execution_count": 3,
     "metadata": {},
     "output_type": "execute_result"
    }
   ],
   "source": [
    "nltk.download('vader_lexicon')"
   ]
  },
  {
   "cell_type": "markdown",
   "metadata": {},
   "source": [
    "### We'll create our `analyzer`"
   ]
  },
  {
   "cell_type": "code",
   "execution_count": 4,
   "metadata": {},
   "outputs": [],
   "source": [
    "analyzer = SentimentIntensityAnalyzer()"
   ]
  },
  {
   "cell_type": "markdown",
   "metadata": {},
   "source": [
    "### And import our `data`"
   ]
  },
  {
   "cell_type": "code",
   "execution_count": 5,
   "metadata": {},
   "outputs": [
    {
     "data": {
      "text/html": [
       "<div>\n",
       "<style scoped>\n",
       "    .dataframe tbody tr th:only-of-type {\n",
       "        vertical-align: middle;\n",
       "    }\n",
       "\n",
       "    .dataframe tbody tr th {\n",
       "        vertical-align: top;\n",
       "    }\n",
       "\n",
       "    .dataframe thead th {\n",
       "        text-align: right;\n",
       "    }\n",
       "</style>\n",
       "<table border=\"1\" class=\"dataframe\">\n",
       "  <thead>\n",
       "    <tr style=\"text-align: right;\">\n",
       "      <th></th>\n",
       "      <th>Unnamed: 0</th>\n",
       "      <th>semester</th>\n",
       "      <th>hw_num</th>\n",
       "      <th>student_id</th>\n",
       "      <th>review</th>\n",
       "      <th>rating</th>\n",
       "    </tr>\n",
       "  </thead>\n",
       "  <tbody>\n",
       "    <tr>\n",
       "      <th>0</th>\n",
       "      <td>0</td>\n",
       "      <td>fl18</td>\n",
       "      <td>hw2</td>\n",
       "      <td>AF72BBZ</td>\n",
       "      <td>This assignment is a chance to review what i l...</td>\n",
       "      <td>1</td>\n",
       "    </tr>\n",
       "    <tr>\n",
       "      <th>1</th>\n",
       "      <td>1</td>\n",
       "      <td>fl18</td>\n",
       "      <td>hw4</td>\n",
       "      <td>1B3313Z</td>\n",
       "      <td>I think this assignment is much harder than th...</td>\n",
       "      <td>1</td>\n",
       "    </tr>\n",
       "    <tr>\n",
       "      <th>2</th>\n",
       "      <td>2</td>\n",
       "      <td>fl18</td>\n",
       "      <td>hw4</td>\n",
       "      <td>AF72BBZ</td>\n",
       "      <td>I continues to struggle with basic concept abo...</td>\n",
       "      <td>1</td>\n",
       "    </tr>\n",
       "    <tr>\n",
       "      <th>3</th>\n",
       "      <td>3</td>\n",
       "      <td>fl18</td>\n",
       "      <td>hw4</td>\n",
       "      <td>B68C78Z</td>\n",
       "      <td>This time the homework is totally different fr...</td>\n",
       "      <td>1</td>\n",
       "    </tr>\n",
       "    <tr>\n",
       "      <th>4</th>\n",
       "      <td>4</td>\n",
       "      <td>fl18</td>\n",
       "      <td>hw4</td>\n",
       "      <td>B8F758Z</td>\n",
       "      <td>Homework 4 is the most time consuming and the ...</td>\n",
       "      <td>1</td>\n",
       "    </tr>\n",
       "    <tr>\n",
       "      <th>...</th>\n",
       "      <td>...</td>\n",
       "      <td>...</td>\n",
       "      <td>...</td>\n",
       "      <td>...</td>\n",
       "      <td>...</td>\n",
       "      <td>...</td>\n",
       "    </tr>\n",
       "    <tr>\n",
       "      <th>1448</th>\n",
       "      <td>1448</td>\n",
       "      <td>fl19</td>\n",
       "      <td>hw9</td>\n",
       "      <td>60195A</td>\n",
       "      <td>I am just tired of writing reflection, this ho...</td>\n",
       "      <td>na</td>\n",
       "    </tr>\n",
       "    <tr>\n",
       "      <th>1449</th>\n",
       "      <td>1449</td>\n",
       "      <td>fl19</td>\n",
       "      <td>hw9</td>\n",
       "      <td>72AE9C</td>\n",
       "      <td>This assignment is nearly all about coding, wh...</td>\n",
       "      <td>na</td>\n",
       "    </tr>\n",
       "    <tr>\n",
       "      <th>1450</th>\n",
       "      <td>1450</td>\n",
       "      <td>fl19</td>\n",
       "      <td>hw9</td>\n",
       "      <td>8B09B7</td>\n",
       "      <td>What I like about this homework is the instruc...</td>\n",
       "      <td>na</td>\n",
       "    </tr>\n",
       "    <tr>\n",
       "      <th>1451</th>\n",
       "      <td>1451</td>\n",
       "      <td>fl19</td>\n",
       "      <td>hw9</td>\n",
       "      <td>CBF3B5</td>\n",
       "      <td>I thought the first few problems of this homew...</td>\n",
       "      <td>na</td>\n",
       "    </tr>\n",
       "    <tr>\n",
       "      <th>1452</th>\n",
       "      <td>1452</td>\n",
       "      <td>fl19</td>\n",
       "      <td>hw9</td>\n",
       "      <td>F36F62</td>\n",
       "      <td>I’m surprised that there are so many ways to c...</td>\n",
       "      <td>na</td>\n",
       "    </tr>\n",
       "  </tbody>\n",
       "</table>\n",
       "<p>1453 rows × 6 columns</p>\n",
       "</div>"
      ],
      "text/plain": [
       "      Unnamed: 0 semester hw_num student_id  \\\n",
       "0              0     fl18    hw2    AF72BBZ   \n",
       "1              1     fl18    hw4    1B3313Z   \n",
       "2              2     fl18    hw4    AF72BBZ   \n",
       "3              3     fl18    hw4    B68C78Z   \n",
       "4              4     fl18    hw4    B8F758Z   \n",
       "...          ...      ...    ...        ...   \n",
       "1448        1448     fl19    hw9     60195A   \n",
       "1449        1449     fl19    hw9     72AE9C   \n",
       "1450        1450     fl19    hw9     8B09B7   \n",
       "1451        1451     fl19    hw9     CBF3B5   \n",
       "1452        1452     fl19    hw9     F36F62   \n",
       "\n",
       "                                                 review rating  \n",
       "0     This assignment is a chance to review what i l...      1  \n",
       "1     I think this assignment is much harder than th...      1  \n",
       "2     I continues to struggle with basic concept abo...      1  \n",
       "3     This time the homework is totally different fr...      1  \n",
       "4     Homework 4 is the most time consuming and the ...      1  \n",
       "...                                                 ...    ...  \n",
       "1448  I am just tired of writing reflection, this ho...     na  \n",
       "1449  This assignment is nearly all about coding, wh...     na  \n",
       "1450  What I like about this homework is the instruc...     na  \n",
       "1451  I thought the first few problems of this homew...     na  \n",
       "1452  I’m surprised that there are so many ways to c...     na  \n",
       "\n",
       "[1453 rows x 6 columns]"
      ]
     },
     "execution_count": 5,
     "metadata": {},
     "output_type": "execute_result"
    }
   ],
   "source": [
    "data = pd.read_csv('./data/reviews.csv')\n",
    "data"
   ]
  },
  {
   "cell_type": "code",
   "execution_count": 6,
   "metadata": {},
   "outputs": [
    {
     "data": {
      "text/plain": [
       "{'neg': 0.053, 'neu': 0.833, 'pos': 0.114, 'compound': 0.6591}"
      ]
     },
     "execution_count": 6,
     "metadata": {},
     "output_type": "execute_result"
    }
   ],
   "source": [
    "analyzer.polarity_scores(data.review[2])"
   ]
  },
  {
   "cell_type": "code",
   "execution_count": 7,
   "metadata": {},
   "outputs": [],
   "source": [
    "# for i in range(1452):\n",
    "new_df = pd.DataFrame([analyzer.polarity_scores(x) for x in data.review])\n",
    "\n",
    "res = pd.concat([data, new_df], axis=1, join='inner')\n",
    "# res.to_csv('./data/reviews_sentiment.csv')\n",
    "# data.review\n"
   ]
  },
  {
   "cell_type": "code",
   "execution_count": null,
   "metadata": {},
   "outputs": [],
   "source": []
  }
 ],
 "metadata": {
  "interpreter": {
   "hash": "0027d190c5a0330e414ab15191fc9a3ebbd6b2cc408a8617e76dad1f6b62cd02"
  },
  "kernelspec": {
   "display_name": "Python 3 (ipykernel)",
   "language": "python",
   "name": "python3"
  },
  "language_info": {
   "codemirror_mode": {
    "name": "ipython",
    "version": 3
   },
   "file_extension": ".py",
   "mimetype": "text/x-python",
   "name": "python",
   "nbconvert_exporter": "python",
   "pygments_lexer": "ipython3",
   "version": "3.9.7-final"
  },
  "orig_nbformat": 4
 },
 "nbformat": 4,
 "nbformat_minor": 2
}
